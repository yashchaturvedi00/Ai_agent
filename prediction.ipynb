{
 "cells": [
  {
   "cell_type": "markdown",
   "metadata": {},
   "source": [
    "### Import necessary modules\n",
    "\n",
    "In this section of the code, we load the necessary modules, such as pandas, matplotlib, and seaborn.\n",
    "\n",
    "pandas = Data fragmentation, manupilation and analysis.<br>\n",
    "matplotlib, seaborn = Visualizations of the data."
   ]
  },
  {
   "cell_type": "code",
   "execution_count": null,
   "metadata": {},
   "outputs": [],
   "source": []
  },
  {
   "cell_type": "markdown",
   "metadata": {},
   "source": [
    "### Import dataset using pandas module"
   ]
  },
  {
   "cell_type": "code",
   "execution_count": null,
   "metadata": {},
   "outputs": [],
   "source": []
  },
  {
   "cell_type": "markdown",
   "metadata": {},
   "source": [
    "### Exploratory Data Analysis\n",
    "\n",
    "It is an approach to analyzing datasets to summarize their main characteristics, often with visual methods. The goal of EDA is to understand the structure, patterns, relationships, and anomalies within the data before applying any modeling or advanced analysis techniques."
   ]
  },
  {
   "cell_type": "code",
   "execution_count": null,
   "metadata": {},
   "outputs": [],
   "source": []
  },
  {
   "cell_type": "markdown",
   "metadata": {},
   "source": [
    "Now that we have a brief summary of our dataset, we will shortlist the features (X) and target (Y) for Linear Regression. To do this, we need to identify a value that is dependent on one or more other values. You can also plot visualizations to examine the correlations between the variables."
   ]
  },
  {
   "cell_type": "code",
   "execution_count": null,
   "metadata": {},
   "outputs": [],
   "source": []
  },
  {
   "cell_type": "markdown",
   "metadata": {},
   "source": [
    "To have an effective dataset, we need to consider every value within it. Therefore, we will plot all the correlations of the dataset together."
   ]
  },
  {
   "cell_type": "code",
   "execution_count": null,
   "metadata": {},
   "outputs": [],
   "source": []
  },
  {
   "cell_type": "markdown",
   "metadata": {},
   "source": [
    "Now, we need to identify the correlations that resemble a straight line in linear regression."
   ]
  },
  {
   "cell_type": "markdown",
   "metadata": {},
   "source": [
    "### Train the Model\n",
    "\n",
    "Now we have found our correlations ( in simpler words, column ) which we will use to train our model. \n",
    "\n",
    "To train the model we will split the data into a 70 percent to 30 percent ratio where we will test on the 30 percent and train on 70 percent."
   ]
  },
  {
   "cell_type": "code",
   "execution_count": null,
   "metadata": {},
   "outputs": [],
   "source": []
  },
  {
   "cell_type": "markdown",
   "metadata": {},
   "source": [
    "Now we have trained our model, to generate test predictions we will use the testing data."
   ]
  },
  {
   "cell_type": "code",
   "execution_count": null,
   "metadata": {},
   "outputs": [],
   "source": []
  },
  {
   "cell_type": "markdown",
   "metadata": {},
   "source": [
    "### Model Evaluation\n",
    "\n",
    "Now we've successfully finished training and testing our model. It is now ready to provide predictions but we need to evaluate it first.\n",
    "\n",
    "Evaluations for Linear Regression is conducted by three main parameters:\n",
    "\n",
    "Mean Absolute Error (MAE): Measures the average absolute difference between predicted and actual values.\n",
    "\n",
    "Mean Squared Error (MSE): Measures the average of the squared differences between predicted and actual values. It penalizes larger errors more heavily.\n",
    "\n",
    "Root Mean Squared Error (RMSE): The square root of MSE, bringing the error back to the original unit of the target variable. It's useful for understanding the magnitude of the error.\n"
   ]
  },
  {
   "cell_type": "code",
   "execution_count": null,
   "metadata": {},
   "outputs": [],
   "source": []
  },
  {
   "cell_type": "markdown",
   "metadata": {},
   "source": [
    "### Export the Model for Deployment\n",
    "\n",
    "We have now finished building our model and are satisfied with its evaluation. Next, we will deploy the model and provide an interface so users can input their data and receive a predicted value.\n",
    "\n",
    "The .pkl extension is used for saving models in Python because it stands for Pickle, which is a built-in module in Python for serializing and deserializing objects. Serialization (also known as \"pickling\") is the process of converting an object (like a trained machine learning model) into a byte stream, which can then be saved to a file. Deserialization (or \"unpickling\") is the reverse process, where the byte stream is loaded back into memory as the original object.\n"
   ]
  },
  {
   "cell_type": "code",
   "execution_count": null,
   "metadata": {},
   "outputs": [],
   "source": []
  }
 ],
 "metadata": {
  "kernelspec": {
   "display_name": "Python 3 (ipykernel)",
   "language": "python",
   "name": "python3"
  },
  "language_info": {
   "codemirror_mode": {
    "name": "ipython",
    "version": 3
   },
   "file_extension": ".py",
   "mimetype": "text/x-python",
   "name": "python",
   "nbconvert_exporter": "python",
   "pygments_lexer": "ipython3",
   "version": "3.11.6"
  }
 },
 "nbformat": 4,
 "nbformat_minor": 4
}
